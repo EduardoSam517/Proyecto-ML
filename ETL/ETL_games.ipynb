{
 "cells": [
  {
   "cell_type": "code",
   "execution_count": 38,
   "metadata": {},
   "outputs": [],
   "source": [
    "import pandas as pd\n",
    "import json"
   ]
  },
  {
   "cell_type": "code",
   "execution_count": 39,
   "metadata": {},
   "outputs": [],
   "source": [
    "# Leer el archivo y cargar cada línea como un objeto JSON\n",
    "with open('output_steam_games.json', 'r', encoding='utf-8') as archivo:\n",
    "    data = [json.loads(line) for line in archivo]\n",
    "\n",
    "# Convertir la lista de objetos JSON en un DataFrame\n",
    "data_games = pd.DataFrame(data)\n",
    "data_games.drop(data_games.index[0:88310], inplace=True)"
   ]
  },
  {
   "cell_type": "code",
   "execution_count": null,
   "metadata": {},
   "outputs": [],
   "source": [
    "# Borrar columnas que no seran necesarias para el analisis posterior\n",
    "data_games.drop(['app_name','early_access','url','reviews_url','tags','publisher','specs'], axis=1, inplace = True)\n",
    "data_games.reindex()\n",
    "\n",
    "# sacar solo el año de la columna 'release_date'\n",
    "data_games['release_date'] = pd.to_datetime(data_games['release_date'], errors='coerce').dt.year\n",
    "\n",
    "# Borrar nulos por cada columna\n",
    "data_games = data_games.dropna(subset=['genres'])\n",
    "data_games = data_games.dropna(subset=['title'])\n",
    "data_games = data_games.dropna(subset=['release_date'])\n",
    "data_games = data_games.dropna(subset=['price'])\n",
    "data_games = data_games.dropna(subset=['id'])\n",
    "data_games = data_games.dropna(subset=['developer'])\n",
    "\n",
    "# Cambiar tipo de dato de la columna 'release_date'\n",
    "data_games['release_date'] = data_games['release_date'].astype(int)\n",
    "data_games['release_date'] = data_games['release_date'].astype(str)\n",
    "\n",
    "# Cambiar valores de la columna 'price' donde indique que sea gratuito por el numero '0'\n",
    "data_games['price'] = data_games['price'].replace({'Free To Play': 0})\n",
    "data_games['price'] = data_games['price'].replace({'Free to Play': 0})\n",
    "data_games['price'] = data_games['price'].replace({'Play for Free!': 0})\n",
    "\n",
    "# convierte todos los valores a numericos y si se encuentran texto se elimina\n",
    "data_games = data_games[pd.to_numeric(data_games['price'], errors='coerce').notnull()]\n",
    "\n",
    "# cambia el nombre de la columna 'id' a 'item_id'\n",
    "data_games = data_games.rename(columns={'id':'item_id'})\n",
    "\n",
    "# separa en varias columnas la columna 'genres' en un nuevo DataFrame y se concatena con el DataFrame original\n",
    "data_games1 = data_games['genres'].apply(pd.Series)\n",
    "data_games2 = pd.concat([data_games, data_games1], axis=1)\n",
    "\n",
    "# Eliminar la columna 'genres' y tambien las columnas generadas cuando se separó en varias columnas y dejando solo la primera columna ['0']\n",
    "# solo se consideraron los valores de la columna ['0'] como genero del juego\n",
    "data_games2.drop(['genres'], axis=1, inplace = True)\n",
    "data_games2.drop([1,2,3,4,5,6,7,8,9], axis=1, inplace = True)\n",
    "\n",
    "# se seleccionan las variables con caracteristicas mas importantes a criterio\n",
    "data_games2 = data_games2[['item_id','title','genre','developer','release_date','price']]\n",
    "\n",
    "# se eliminnan duplicados en caso de haber\n",
    "data_games2 = data_games2.drop_duplicates()\n",
    "\n",
    "# se exporta la tabla como archivo separa por comas de nombre 'games'\n",
    "data_games2.to_csv('games.csv', index=False)"
   ]
  }
 ],
 "metadata": {
  "kernelspec": {
   "display_name": "Python 3",
   "language": "python",
   "name": "python3"
  },
  "language_info": {
   "codemirror_mode": {
    "name": "ipython",
    "version": 3
   },
   "file_extension": ".py",
   "mimetype": "text/x-python",
   "name": "python",
   "nbconvert_exporter": "python",
   "pygments_lexer": "ipython3",
   "version": "3.11.4"
  }
 },
 "nbformat": 4,
 "nbformat_minor": 2
}
