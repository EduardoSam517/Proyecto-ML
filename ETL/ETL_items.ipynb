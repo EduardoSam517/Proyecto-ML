{
 "cells": [
  {
   "cell_type": "code",
   "execution_count": 1,
   "metadata": {},
   "outputs": [],
   "source": [
    "import pandas as pd\n",
    "import ast"
   ]
  },
  {
   "cell_type": "code",
   "execution_count": 2,
   "metadata": {},
   "outputs": [],
   "source": [
    "# Lista para almacenar los diccionarios JSON de cada línea\n",
    "data_list = []\n",
    "\n",
    "# Ruta del archivo JSON\n",
    "file_path = 'australian_users_items.json'\n",
    "\n",
    "# Abrir el archivo y procesar cada línea\n",
    "with open(file_path, 'r', encoding='utf-8') as file:\n",
    "    for line in file:\n",
    "        try:\n",
    "            # Usar ast.literal_eval para convertir la línea en un diccionario\n",
    "            json_data = ast.literal_eval(line)\n",
    "            data_list.append(json_data)\n",
    "        except ValueError as e:\n",
    "            print(f\"Error en la línea: {line}\")\n",
    "            continue\n",
    "\n",
    "# Crear un DataFrame a partir de la lista de diccionarios\n",
    "data_it = pd.DataFrame(data_list)"
   ]
  },
  {
   "cell_type": "code",
   "execution_count": 3,
   "metadata": {},
   "outputs": [],
   "source": [
    "# se desanidan los datos de la columna ['items']\n",
    "data_it1 = data_it.explode(['items'])\n",
    "data_it2 = pd.json_normalize(data_it1['items']).set_index(data_it1['items'].index)\n",
    "data_it3= pd.concat([data_it2, data_it1], axis=1)\n",
    "\n",
    "#se eliminan las columnas que no se consideran relevantes para el posterior analisis\n",
    "data_it3.drop(['items_count','user_url','item_name','steam_id'], axis=1, inplace=True)\n",
    "\n",
    "# se eliminan los datos nulos por columnas\n",
    "data_it3 = data_it3.dropna(subset=['item_id'])\n",
    "data_it3 = data_it3.dropna(subset=['playtime_forever'])\n",
    "\n",
    "# se eliminan 2 columnas adicionales\n",
    "data_it3.drop(['items','playtime_2weeks'], axis=1, inplace=True)\n",
    "\n",
    "# se define el dataframe solo para aquellos juegos donde tuvieron un tiempo jugado (condicion)\n",
    "data_it3 = data_it3[data_it3['playtime_forever'] != 0]\n",
    "\n",
    "# conservar las 3 columnas mas importantes para el analisis\n",
    "data_it3 = data_it3[['user_id','item_id','playtime_forever']]\n",
    "\n",
    "# se eliminan los duplicados y valores nulos en caso de haber\n",
    "data_it3 = data_it3.drop_duplicates()\n",
    "data_it3 = data_it3.dropna()\n",
    "\n",
    "# se exporta la tabla como archivo separa por comas de nombre 'user_items'\n",
    "data_it3.to_csv('user_items.csv', index=False)"
   ]
  }
 ],
 "metadata": {
  "kernelspec": {
   "display_name": "Python 3",
   "language": "python",
   "name": "python3"
  },
  "language_info": {
   "codemirror_mode": {
    "name": "ipython",
    "version": 3
   },
   "file_extension": ".py",
   "mimetype": "text/x-python",
   "name": "python",
   "nbconvert_exporter": "python",
   "pygments_lexer": "ipython3",
   "version": "3.11.4"
  }
 },
 "nbformat": 4,
 "nbformat_minor": 2
}
